{
 "cells": [
  {
   "cell_type": "markdown",
   "metadata": {},
   "source": [
    "### Hamming Distance"
   ]
  },
  {
   "cell_type": "code",
   "execution_count": 1,
   "metadata": {},
   "outputs": [],
   "source": [
    "from scipy.spatial import distance"
   ]
  },
  {
   "cell_type": "code",
   "execution_count": 2,
   "metadata": {},
   "outputs": [],
   "source": [
    "# Example 1:\n",
    "# Strings:\n",
    "\n",
    "string1 = 'TIME'\n",
    "string2 = 'MINE'"
   ]
  },
  {
   "cell_type": "code",
   "execution_count": 3,
   "metadata": {},
   "outputs": [
    {
     "name": "stdout",
     "output_type": "stream",
     "text": [
      "The Normalized Hamming Distance between TIME and MINE is 0.5.\n"
     ]
    }
   ],
   "source": [
    "# Normalized Hamming Distance\n",
    "\n",
    "Normalized_HD = distance.hamming(list(string1), list(string2))\n",
    "print('The Normalized Hamming Distance between {} and {} is {}.'.format(string1, string2, Normalized_HD))"
   ]
  },
  {
   "cell_type": "code",
   "execution_count": 4,
   "metadata": {},
   "outputs": [
    {
     "name": "stdout",
     "output_type": "stream",
     "text": [
      "The Hamming Distance between TIME and MINE is 2.0\n"
     ]
    }
   ],
   "source": [
    "# Original Hamming Distance \n",
    "print('The Hamming Distance between {} and {} is {}'. format(string1, string2, Normalized_HD*len(string1)))"
   ]
  },
  {
   "cell_type": "code",
   "execution_count": 5,
   "metadata": {},
   "outputs": [],
   "source": [
    "# Example 2:\n",
    "\n",
    "# Strings:\n",
    "word1 = 'MAN'\n",
    "word2 = 'WOMAN'"
   ]
  },
  {
   "cell_type": "code",
   "execution_count": 6,
   "metadata": {},
   "outputs": [
    {
     "ename": "ValueError",
     "evalue": "The 1d arrays must have equal lengths.",
     "output_type": "error",
     "traceback": [
      "\u001b[1;31m---------------------------------------------------------------------------\u001b[0m",
      "\u001b[1;31mValueError\u001b[0m                                Traceback (most recent call last)",
      "\u001b[1;32m<ipython-input-6-dd877ae8e67c>\u001b[0m in \u001b[0;36m<module>\u001b[1;34m\u001b[0m\n\u001b[0;32m      1\u001b[0m \u001b[1;31m# Normalized Hamming Distance\u001b[0m\u001b[1;33m\u001b[0m\u001b[1;33m\u001b[0m\u001b[1;33m\u001b[0m\u001b[0m\n\u001b[0;32m      2\u001b[0m \u001b[1;33m\u001b[0m\u001b[0m\n\u001b[1;32m----> 3\u001b[1;33m \u001b[0mNormalized_HD_\u001b[0m \u001b[1;33m=\u001b[0m \u001b[0mdistance\u001b[0m\u001b[1;33m.\u001b[0m\u001b[0mhamming\u001b[0m\u001b[1;33m(\u001b[0m\u001b[0mlist\u001b[0m\u001b[1;33m(\u001b[0m\u001b[0mword1\u001b[0m\u001b[1;33m)\u001b[0m\u001b[1;33m,\u001b[0m \u001b[0mlist\u001b[0m\u001b[1;33m(\u001b[0m\u001b[0mword2\u001b[0m\u001b[1;33m)\u001b[0m\u001b[1;33m)\u001b[0m\u001b[1;33m\u001b[0m\u001b[1;33m\u001b[0m\u001b[0m\n\u001b[0m\u001b[0;32m      4\u001b[0m \u001b[0mprint\u001b[0m\u001b[1;33m(\u001b[0m\u001b[1;34m'The Normalized Hamming Distance between {} and {} is {}.'\u001b[0m\u001b[1;33m.\u001b[0m\u001b[0mformat\u001b[0m\u001b[1;33m(\u001b[0m\u001b[0mword1\u001b[0m\u001b[1;33m,\u001b[0m \u001b[0mword2\u001b[0m\u001b[1;33m,\u001b[0m \u001b[0mNormalized_HD_\u001b[0m\u001b[1;33m)\u001b[0m\u001b[1;33m)\u001b[0m\u001b[1;33m\u001b[0m\u001b[1;33m\u001b[0m\u001b[0m\n",
      "\u001b[1;32mC:\\ProgramData\\Anaconda3\\lib\\site-packages\\scipy\\spatial\\distance.py\u001b[0m in \u001b[0;36mhamming\u001b[1;34m(u, v, w)\u001b[0m\n\u001b[0;32m    814\u001b[0m     \u001b[0mv\u001b[0m \u001b[1;33m=\u001b[0m \u001b[0m_validate_vector\u001b[0m\u001b[1;33m(\u001b[0m\u001b[0mv\u001b[0m\u001b[1;33m)\u001b[0m\u001b[1;33m\u001b[0m\u001b[1;33m\u001b[0m\u001b[0m\n\u001b[0;32m    815\u001b[0m     \u001b[1;32mif\u001b[0m \u001b[0mu\u001b[0m\u001b[1;33m.\u001b[0m\u001b[0mshape\u001b[0m \u001b[1;33m!=\u001b[0m \u001b[0mv\u001b[0m\u001b[1;33m.\u001b[0m\u001b[0mshape\u001b[0m\u001b[1;33m:\u001b[0m\u001b[1;33m\u001b[0m\u001b[1;33m\u001b[0m\u001b[0m\n\u001b[1;32m--> 816\u001b[1;33m         \u001b[1;32mraise\u001b[0m \u001b[0mValueError\u001b[0m\u001b[1;33m(\u001b[0m\u001b[1;34m'The 1d arrays must have equal lengths.'\u001b[0m\u001b[1;33m)\u001b[0m\u001b[1;33m\u001b[0m\u001b[1;33m\u001b[0m\u001b[0m\n\u001b[0m\u001b[0;32m    817\u001b[0m     \u001b[0mu_ne_v\u001b[0m \u001b[1;33m=\u001b[0m \u001b[0mu\u001b[0m \u001b[1;33m!=\u001b[0m \u001b[0mv\u001b[0m\u001b[1;33m\u001b[0m\u001b[1;33m\u001b[0m\u001b[0m\n\u001b[0;32m    818\u001b[0m     \u001b[1;32mif\u001b[0m \u001b[0mw\u001b[0m \u001b[1;32mis\u001b[0m \u001b[1;32mnot\u001b[0m \u001b[1;32mNone\u001b[0m\u001b[1;33m:\u001b[0m\u001b[1;33m\u001b[0m\u001b[1;33m\u001b[0m\u001b[0m\n",
      "\u001b[1;31mValueError\u001b[0m: The 1d arrays must have equal lengths."
     ]
    }
   ],
   "source": [
    "# Normalized Hamming Distance\n",
    "\n",
    "Normalized_HD_ = distance.hamming(list(word1), list(word2))\n",
    "print('The Normalized Hamming Distance between {} and {} is {}.'.format(word1, word2, Normalized_HD_))"
   ]
  },
  {
   "cell_type": "code",
   "execution_count": null,
   "metadata": {},
   "outputs": [],
   "source": [
    "# Original Hamming Distance \n",
    "print('The Hamming Distance between {} and {} is {}'. format(word1, word2, Normalized_HD*len(word1)))"
   ]
  },
  {
   "cell_type": "markdown",
   "metadata": {},
   "source": [
    "### Levenshtein Distance"
   ]
  },
  {
   "cell_type": "code",
   "execution_count": 7,
   "metadata": {},
   "outputs": [],
   "source": [
    "import numpy as np"
   ]
  },
  {
   "cell_type": "code",
   "execution_count": 11,
   "metadata": {},
   "outputs": [],
   "source": [
    "# Example 1:\n",
    "\n",
    "# define the two strings:\n",
    "\n",
    "string_1 = 'CLOCK'\n",
    "string_2 = 'CLONE'"
   ]
  },
  {
   "cell_type": "code",
   "execution_count": 22,
   "metadata": {},
   "outputs": [
    {
     "data": {
      "text/plain": [
       "array([[0., 0., 0., 0., 0., 0.],\n",
       "       [0., 0., 0., 0., 0., 0.],\n",
       "       [0., 0., 0., 0., 0., 0.],\n",
       "       [0., 0., 0., 0., 0., 0.],\n",
       "       [0., 0., 0., 0., 0., 0.],\n",
       "       [0., 0., 0., 0., 0., 0.]])"
      ]
     },
     "execution_count": 22,
     "metadata": {},
     "output_type": "execute_result"
    }
   ],
   "source": [
    "# Step 1a: Set the size of the matrix\n",
    "\n",
    "size_a = len(string_1) + 1\n",
    "size_b = len(string_2) + 1\n",
    "\n",
    "# Step 1b: Create a matrix with all elements as zeros\n",
    "\n",
    "matrix = np.zeros((size_a, size_b))\n",
    "\n",
    "# print the matrix\n",
    "matrix"
   ]
  },
  {
   "cell_type": "code",
   "execution_count": 25,
   "metadata": {},
   "outputs": [
    {
     "data": {
      "text/plain": [
       "array([[0., 1., 2., 3., 4., 5.],\n",
       "       [1., 0., 0., 0., 0., 0.],\n",
       "       [2., 0., 0., 0., 0., 0.],\n",
       "       [3., 0., 0., 0., 0., 0.],\n",
       "       [4., 0., 0., 0., 0., 0.],\n",
       "       [5., 0., 0., 0., 0., 0.]])"
      ]
     },
     "execution_count": 25,
     "metadata": {},
     "output_type": "execute_result"
    }
   ],
   "source": [
    "# Step 2: \n",
    "\n",
    "# Fill the first row with the index of the characters from the first string:   \n",
    "\n",
    "for i in range(size_a):\n",
    "    matrix[i,0] = i\n",
    "    \n",
    "# Fill the first column with the index of the characters from the second string:\n",
    "\n",
    "for j in range(size_b):\n",
    "    matrix[0,j] = j\n",
    "    \n",
    "# print the matrix\n",
    "matrix"
   ]
  },
  {
   "cell_type": "code",
   "execution_count": 26,
   "metadata": {},
   "outputs": [
    {
     "data": {
      "text/plain": [
       "array([[0., 1., 2., 3., 4., 5.],\n",
       "       [1., 0., 1., 2., 3., 4.],\n",
       "       [2., 1., 0., 1., 2., 3.],\n",
       "       [3., 2., 1., 0., 1., 2.],\n",
       "       [4., 2., 2., 1., 1., 2.],\n",
       "       [5., 3., 3., 2., 2., 2.]])"
      ]
     },
     "execution_count": 26,
     "metadata": {},
     "output_type": "execute_result"
    }
   ],
   "source": [
    "# Step 3: Fill the values of the matrix depending upon if the characters of the matrix are same or different:\n",
    "\n",
    "# For each column:\n",
    "for i in range(1, size_a):\n",
    "    \n",
    "    # For each row:\n",
    "    for j in range(1, size_b):\n",
    "        \n",
    "        # check if the characters are same:\n",
    "        if string_1[i-1] == string_2[j-1]:\n",
    "            matrix[i,j] = min(matrix[i-1, j-1], matrix[i-1,j] + 1, matrix[i,j-1] + 1)\n",
    "\n",
    "        # else if the characters are not same:\n",
    "        else:\n",
    "            matrix[i,j] = min(matrix[i-1, j]+1, matrix[i-1, j-1]+1, matrix[i, j-1]+1)\n",
    "            \n",
    "# printing the final matrix: output\n",
    "matrix"
   ]
  },
  {
   "cell_type": "code",
   "execution_count": 13,
   "metadata": {
    "scrolled": true
   },
   "outputs": [
    {
     "name": "stdout",
     "output_type": "stream",
     "text": [
      "[[0. 1. 2. 3. 4. 5.]\n",
      " [1. 0. 1. 2. 3. 4.]\n",
      " [2. 1. 0. 1. 2. 3.]\n",
      " [3. 2. 1. 0. 1. 2.]\n",
      " [4. 3. 2. 1. 1. 2.]\n",
      " [5. 4. 3. 2. 2. 2.]]\n"
     ]
    },
    {
     "data": {
      "text/plain": [
       "2.0"
      ]
     },
     "execution_count": 13,
     "metadata": {},
     "output_type": "execute_result"
    }
   ],
   "source": [
    "levenshtein_distance(string_1, string_2)"
   ]
  },
  {
   "cell_type": "code",
   "execution_count": 51,
   "metadata": {},
   "outputs": [],
   "source": [
    "# Consolidating all the above steps in the function:\n",
    "\n",
    "# Define function to compute levenshtein distance between two strings:\n",
    "\n",
    "def levenshtein_distance(s1, s2):\n",
    "    \n",
    "    # Step 1a: Set the size of the matrix\n",
    "    \n",
    "    size_x = len(s1) + 1\n",
    "    size_y = len(s2) + 1\n",
    "    \n",
    "    # Step 1b: Create a matrix with all elements as zeros\n",
    "    matrix = np.zeros((size_x, size_y))\n",
    "\n",
    "\n",
    "    # Step 2: \n",
    "\n",
    "    # Fill the first column with the index of the characters from the first string:\n",
    "    for x in range(size_x):\n",
    "        matrix [x, 0] = x\n",
    "        \n",
    "    # Fill the first row with the index of the characters from the second string:\n",
    "    for y in range(size_y):\n",
    "        matrix [0, y] = y\n",
    "\n",
    "    # Step 3: Fill the values of the matrix depending upon if the characters of the matrix are same or different:\n",
    "\n",
    "    # For each column:\n",
    "    \n",
    "    for x in range(1, size_x):\n",
    "        \n",
    "        # For each row\n",
    "        for y in range(1, size_y):\n",
    "            \n",
    "            # check if the characters are same\n",
    "            if s1[x-1] == s2[y-1]:\n",
    "                matrix[x,y] = min(matrix[x-1, y-1], matrix[x-1, y] + 1, matrix[x, y-1] + 1)\n",
    "                \n",
    "            # else if the characters are not same:\n",
    "            else:\n",
    "                # fill the element with the minimum of corresponding values + 1\n",
    "                matrix[x,y] = min(matrix[x-1,y] + 1, matrix[x-1,y-1] + 1, matrix[x,y-1] + 1)\n",
    "\n",
    "\n",
    "   # print the final matrix            \n",
    "    print(matrix)\n",
    "    print('')\n",
    "    \n",
    "    # print the levenshtein distance between the sttrings:\n",
    "    print('The Levenshtein Distance between {} and {} is {}.'.format(s1, s2, matrix[size_x - 1, size_y - 1]))"
   ]
  },
  {
   "cell_type": "code",
   "execution_count": 53,
   "metadata": {},
   "outputs": [
    {
     "name": "stdout",
     "output_type": "stream",
     "text": [
      "[[0. 1. 2. 3. 4. 5.]\n",
      " [1. 0. 1. 2. 3. 4.]\n",
      " [2. 1. 0. 1. 2. 3.]\n",
      " [3. 2. 1. 0. 1. 2.]\n",
      " [4. 3. 2. 1. 1. 2.]\n",
      " [5. 4. 3. 2. 2. 2.]]\n",
      "\n",
      "The Levenshtein Distance between CLOCK and CLONE is 2.0.\n"
     ]
    }
   ],
   "source": [
    "levenshtein_distance(string_1, string_2)"
   ]
  },
  {
   "cell_type": "code",
   "execution_count": 54,
   "metadata": {},
   "outputs": [
    {
     "name": "stdout",
     "output_type": "stream",
     "text": [
      "[[0. 1. 2. 3. 4. 5.]\n",
      " [1. 1. 2. 2. 3. 4.]\n",
      " [2. 2. 2. 3. 2. 3.]\n",
      " [3. 3. 3. 3. 3. 2.]]\n",
      "\n",
      "The Levenshtein Distance between MAN and WOMAN is 2.0.\n"
     ]
    }
   ],
   "source": [
    "levenshtein_distance(word1, word2)"
   ]
  },
  {
   "cell_type": "markdown",
   "metadata": {},
   "source": [
    "-----"
   ]
  }
 ],
 "metadata": {
  "kernelspec": {
   "display_name": "Python 3",
   "language": "python",
   "name": "python3"
  },
  "language_info": {
   "codemirror_mode": {
    "name": "ipython",
    "version": 3
   },
   "file_extension": ".py",
   "mimetype": "text/x-python",
   "name": "python",
   "nbconvert_exporter": "python",
   "pygments_lexer": "ipython3",
   "version": "3.7.6"
  }
 },
 "nbformat": 4,
 "nbformat_minor": 4
}
